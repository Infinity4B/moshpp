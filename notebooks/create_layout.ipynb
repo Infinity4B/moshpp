{
 "cells": [
  {
   "cell_type": "code",
   "execution_count": 5,
   "metadata": {},
   "outputs": [
    {
     "name": "stderr",
     "output_type": "stream",
     "text": [
      "\u001b[32m2025-01-21 11:54:53.352\u001b[0m | \u001b[34m\u001b[1mDEBUG   \u001b[0m | \u001b[36mmoshpp.marker_layout.create_marker_layout_for_mocaps\u001b[0m:\u001b[36mmarker_labels_to_marker_layout\u001b[0m:\u001b[36m68\u001b[0m - \u001b[34m\u001b[1mPreparing marker layout for surface_model_type: smplx\u001b[0m\n",
      "\u001b[32m2025-01-21 11:54:53.353\u001b[0m | \u001b[34m\u001b[1mDEBUG   \u001b[0m | \u001b[36mmoshpp.marker_layout.create_marker_layout_for_mocaps\u001b[0m:\u001b[36mmarker_labels_to_marker_layout\u001b[0m:\u001b[36m106\u001b[0m - \u001b[34m\u001b[1mhas_face: True, has_finger: True, has_body: True, wrist_markers_on_stick: False\u001b[0m\n",
      "\u001b[32m2025-01-21 11:54:53.353\u001b[0m | \u001b[1mINFO    \u001b[0m | \u001b[36mmoshpp.marker_layout.create_marker_layout_for_mocaps\u001b[0m:\u001b[36mmarker_labels_to_marker_layout\u001b[0m:\u001b[36m130\u001b[0m - \u001b[1mCreated marker layout: ./layout.json\u001b[0m\n"
     ]
    },
    {
     "name": "stdout",
     "output_type": "stream",
     "text": [
      "39\n"
     ]
    },
    {
     "data": {
      "text/plain": [
       "True"
      ]
     },
     "execution_count": 5,
     "metadata": {},
     "output_type": "execute_result"
    }
   ],
   "source": [
    "from moshpp.marker_layout.create_marker_layout_for_mocaps import marker_labels_to_marker_layout\n",
    "\n",
    "# origin\n",
    "# markers=[\"R.Shoulder\", \"R.Offset\", \"R.Elbow\", \"R.Wrist\", \"L.Shoulder\", \"L.Elbow\", \"L.Wrist\", \"R.ASIS\", \"L.ASIS\", \"V.Sacral\", \"R.Thigh\", \"R.Knee\", \"R.Shank\", \"R.Ankle\", \"R.Heel\", \"R.Toe\", \"L.Thigh\", \"L.Knee\", \"L.Shank\", \"L.Ankle\", \"L.Heel\", \"L.Toe\"]\n",
    "\n",
    "#new\n",
    "markers=['RF.Head', 'LF.Head', 'RB.Head', 'LB.Head', 'C7', 'T10', 'CLAV', 'STRN', 'RBAK', 'R.Shoulder', 'R.Upperarm', 'R.Elbow', 'R.Forearm', 'R.WristIn', 'R.WristOut', 'R.Finger', 'L.Shoulder', 'L.Upperarm', 'L.Elbow', 'L.Forearm', 'L.WristIn', 'L.WristOut', 'L.Finger', 'R.ASIS', 'L.ASIS', 'R.PSIS', 'L.PSIS', 'R.Thigh', 'R.Knee', 'R.Shank', 'R.Ankle', 'R.Heel', 'R.Toe', 'L.Thigh', 'L.Knee', 'L.Shank', 'L.Ankle', 'L.Heel', 'L.Toe']\n",
    "\n",
    "print(len(markers))\n",
    "\n",
    "marker_labels_to_marker_layout(chosen_markers=markers,marker_layout_fname='./layout.json',surface_model_type='smplx')"
   ]
  }
 ],
 "metadata": {
  "kernelspec": {
   "display_name": "moshpp",
   "language": "python",
   "name": "python3"
  },
  "language_info": {
   "codemirror_mode": {
    "name": "ipython",
    "version": 3
   },
   "file_extension": ".py",
   "mimetype": "text/x-python",
   "name": "python",
   "nbconvert_exporter": "python",
   "pygments_lexer": "ipython3",
   "version": "3.7.12"
  }
 },
 "nbformat": 4,
 "nbformat_minor": 2
}
